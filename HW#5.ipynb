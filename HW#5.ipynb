{
 "cells": [
  {
   "cell_type": "markdown",
   "metadata": {},
   "source": [
    "## Homework #5 (Jan Betlej, 05.04.2018)\n",
    "\n",
    "Implement the Czekanowski-Dice index. \n",
    "\n",
    "\\begin{equation}\n",
    "C=2\\frac{P\\times R}{P+R}.\n",
    "\\end{equation}\n",
    "Precision is defined as:\n",
    "\\begin{equation}\n",
    "PPV=\\frac{\\#TP}{\\#TP+\\#FP}.\n",
    "\\end{equation}\n",
    "Recall is defined as:\n",
    "\\begin{equation}\n",
    "TPR=\\frac{\\#TP}{\\#TP+\\#FN}.\n",
    "\\end{equation}"
   ]
  },
  {
   "cell_type": "code",
   "execution_count": 4,
   "metadata": {},
   "outputs": [
    {
     "data": {
      "text/plain": [
       "0.6666666666666666"
      ]
     },
     "execution_count": 4,
     "metadata": {},
     "output_type": "execute_result"
    }
   ],
   "source": [
    "import numpy as np\n",
    "import matplotlib.pyplot as plt\n",
    "\n",
    "# Additional argument positive_index is id number of group treated as positive\n",
    "def czekanowski_dice_index(assignation,labels,positive_index):\n",
    "    assigned_groups = []\n",
    "    for el in range(len(assignation)):\n",
    "        group_id = np.argmax(assignation[el])\n",
    "        assigned_groups.append(group_id)\n",
    "    # My code begins here\n",
    "    # Defining elements of confusion matrix\n",
    "    TP=0\n",
    "    TN=0\n",
    "    FP=0\n",
    "    FN=0\n",
    "    # Comparing predicted and real labels\n",
    "    for i in range(len(labels)):\n",
    "        #Writing real and predicted labels (respectively) to variables to save time\n",
    "        l,a=labels[i],assigned_groups[i]\n",
    "        if l==a:\n",
    "            if l==positive_index:\n",
    "                TP+=1\n",
    "            else:\n",
    "                TN+=1\n",
    "        elif l!=a:\n",
    "            if l==positive_index:\n",
    "                FN+=1\n",
    "            elif a==positive_index:\n",
    "                FP+=1\n",
    "            else:\n",
    "                # Case possible for num of groups > 2; wrongly predicted group, but really not the positive one. \n",
    "                # So: true negative\n",
    "                TN+=1\n",
    "    #Merging elements to form confusion matrix\n",
    "    conf_matrix=np.array([[TP,FP],[TN,FN]])\n",
    "    #Calculating precission (P), recall (R), and Czekanowski-Dice index (C) \n",
    "    P=TP/(TP+FP)\n",
    "    R=TP/(TP+FN)\n",
    "    C=2*P*R/(P+R)\n",
    "    #Printing for test\n",
    "    #print (assigned_groups,conf_matrix)\n",
    "    #print (P,R)\n",
    "    return C\n",
    "\n",
    "ass_example=[[0.5,0.7],[0.3,0.4],[0.9,0.8]]\n",
    "czekanowski_dice_index(ass_example,[0,1,0],0)"
   ]
  },
  {
   "cell_type": "markdown",
   "metadata": {},
   "source": [
    "### Test on random results"
   ]
  },
  {
   "cell_type": "code",
   "execution_count": 5,
   "metadata": {},
   "outputs": [
    {
     "name": "stdout",
     "output_type": "stream",
     "text": [
      "[0 0 0 ... 0 0 1]\n",
      "[0 1 1 ... 1 2 1]\n",
      "[2 2 2 ... 2 0 0]\n",
      "[4 0 4 ... 1 0 2]\n",
      "[3 5 2 ... 3 2 0]\n",
      "[3 0 4 ... 4 2 4]\n",
      "[6 0 4 ... 4 1 6]\n",
      "[6 4 8 ... 8 2 8]\n",
      "[0 8 5 ... 2 5 1]\n",
      "[0.4992178873757821, 0.33375313164046294, 0.25030947163477135, 0.2019134000434523, 0.1660967151526828, 0.14101526222642766, 0.1251264430564699, 0.11032095657646318, 0.10021110766490911]\n"
     ]
    },
    {
     "data": {
      "image/png": "[encoded data removed]",
      "text/plain": [
       "<matplotlib.figure.Figure at 0x89ed748>"
      ]
     },
     "metadata": {},
     "output_type": "display_data"
    }
   ],
   "source": [
    "#More complex random tests on czekanowski_dice_index\n",
    "j_list=[]\n",
    "c_list=[]\n",
    "# Exponent of number of points\n",
    "i=6\n",
    "for j in range(2,11):\n",
    "    assignation=np.random.rand(10**i,j)\n",
    "    labels=np.random.randint(j,size=10**i)\n",
    "    print (labels)\n",
    "    c=czekanowski_dice_index(assignation,labels,0)\n",
    "    j_list.append(j)\n",
    "    c_list.append(c)\n",
    "\n",
    "print (c_list)\n",
    "\n",
    "plt.figure()\n",
    "plt.scatter(j_list,c_list)\n",
    "plt.xlabel('Groups')\n",
    "plt.ylabel('C-D index')\n",
    "plt.title('C-D index - random assignation and labels')\n",
    "plt.show()"
   ]
  },
  {
   "cell_type": "markdown",
   "metadata": {},
   "source": [
    "** For completely random sets and assignations, C-D index decreases with number of (almost equally represented) groups. It is practically equal to 1/groups in such case **"
   ]
  }
 ],
 "metadata": {
  "kernelspec": {
   "display_name": "Python 3",
   "language": "python",
   "name": "python3"
  },
  "language_info": {
   "codemirror_mode": {
    "name": "ipython",
    "version": 3
   },
   "file_extension": ".py",
   "mimetype": "text/x-python",
   "name": "python",
   "nbconvert_exporter": "python",
   "pygments_lexer": "ipython3",
   "version": "3.6.4"
  }
 },
 "nbformat": 4,
 "nbformat_minor": 2
}
